{
 "cells": [
  {
   "cell_type": "code",
   "execution_count": 0,
   "metadata": {
    "application/vnd.databricks.v1+cell": {
     "cellMetadata": {
      "byteLimit": 2048000,
      "rowLimit": 10000
     },
     "inputWidgets": {},
     "nuid": "8f20d9c4-74c8-4924-adb8-a45e61d0ffd9",
     "showTitle": false,
     "tableResultSettingsMap": {},
     "title": ""
    }
   },
   "outputs": [
    {
     "output_type": "stream",
     "name": "stdout",
     "output_type": "stream",
     "text": [
      "Python interpreter will be restarted.\nCollecting pyspark\n  Downloading pyspark-4.0.0.tar.gz (434.1 MB)\nCollecting py4j==0.10.9.9\n  Downloading py4j-0.10.9.9-py2.py3-none-any.whl (203 kB)\nBuilding wheels for collected packages: pyspark\n  Building wheel for pyspark (setup.py): started\n  Building wheel for pyspark (setup.py): finished with status 'done'\n  Created wheel for pyspark: filename=pyspark-4.0.0-py2.py3-none-any.whl size=434741259 sha256=c0bab08c4dc97926f1d2593d576922b5d0d73e0dceae8b49156dc127f6e6636b\n  Stored in directory: /root/.cache/pip/wheels/11/95/4b/e3cfd6f160b2988f57207fcde6e5a4c6e0104d7da5a107eb8e\nSuccessfully built pyspark\nInstalling collected packages: py4j, pyspark\nSuccessfully installed py4j-0.10.9.9 pyspark-4.0.0\nPython interpreter will be restarted.\n"
     ]
    }
   ],
   "source": [
    "pip install pyspark"
   ]
  },
  {
   "cell_type": "code",
   "execution_count": 0,
   "metadata": {
    "application/vnd.databricks.v1+cell": {
     "cellMetadata": {
      "byteLimit": 2048000,
      "rowLimit": 10000
     },
     "inputWidgets": {},
     "nuid": "23647dfc-c838-4ec6-90f0-063906e485dd",
     "showTitle": false,
     "tableResultSettingsMap": {},
     "title": ""
    }
   },
   "outputs": [
    {
     "output_type": "stream",
     "name": "stdout",
     "output_type": "stream",
     "text": [
      "Package                           Version\n--------------------------------- --------------------\nargon2-cffi                       21.3.0\nargon2-cffi-bindings              21.2.0\nasttokens                         2.0.5\nattrs                             21.4.0\nbackcall                          0.2.0\nbackports.entry-points-selectable 1.2.0\nbeautifulsoup4                    4.11.1\nblack                             22.3.0\nbleach                            4.1.0\nboto3                             1.21.32\nbotocore                          1.24.32\ncertifi                           2021.10.8\ncffi                              1.15.0\nchardet                           4.0.0\ncharset-normalizer                2.0.4\nclick                             8.0.4\ncryptography                      3.4.8\ncycler                            0.11.0\nCython                            0.29.28\ndbus-python                       1.2.16\ndebugpy                           1.5.1\ndecorator                         5.1.1\ndefusedxml                        0.7.1\ndistlib                           0.3.6\ndistro                            1.4.0\ndistro-info                       0.23+ubuntu1.1\ndocstring-to-markdown             0.11\nentrypoints                       0.4\nexecuting                         0.8.3\nfacets-overview                   1.0.0\nfastjsonschema                    2.16.2\nfilelock                          3.9.0\nfonttools                         4.25.0\nidna                              3.3\nipykernel                         6.15.3\nipython                           8.5.0\nipython-genutils                  0.2.0\nipywidgets                        7.7.2\njedi                              0.18.1\nJinja2                            2.11.3\njmespath                          0.10.0\njoblib                            1.1.1\njsonschema                        4.4.0\njupyter-client                    6.1.12\njupyter_core                      4.11.2\njupyterlab-pygments               0.1.2\njupyterlab-widgets                1.0.0\nkiwisolver                        1.3.2\nMarkupSafe                        2.0.1\nmatplotlib                        3.5.1\nmatplotlib-inline                 0.1.2\nmccabe                            0.7.0\nmistune                           0.8.4\nmypy-extensions                   0.4.3\nnbclient                          0.5.13\nnbconvert                         6.4.4\nnbformat                          5.3.0\nnest-asyncio                      1.5.5\nnodeenv                           1.7.0\nnotebook                          6.4.8\nnumpy                             1.21.5\npackaging                         21.3\npandas                            1.4.2\npandocfilters                     1.5.0\nparso                             0.8.3\npathspec                          0.9.0\npatsy                             0.5.2\npexpect                           4.8.0\npickleshare                       0.7.5\nPillow                            9.0.1\npip                               21.2.4\nplatformdirs                      2.6.2\nplotly                            5.6.0\npluggy                            1.0.0\nprometheus-client                 0.13.1\nprompt-toolkit                    3.0.20\nprotobuf                          3.19.4\npsutil                            5.8.0\npsycopg2                          2.9.3\nptyprocess                        0.7.0\npure-eval                         0.2.2\npy4j                              0.10.9.9\npyarrow                           7.0.0\npyarrow-hotfix                    0.5\npycparser                         2.21\npyflakes                          2.5.0\nPygments                          2.11.2\nPyGObject                         3.36.0\npyodbc                            4.0.32\npyparsing                         3.0.4\npyright                           1.1.283\npyrsistent                        0.18.0\npyspark                           4.0.0\npython-apt                        2.0.1+ubuntu0.20.4.1\npython-dateutil                   2.8.2\npython-lsp-jsonrpc                1.0.0\npython-lsp-server                 1.6.0\npytz                              2021.3\npyzmq                             22.3.0\nrequests                          2.27.1\nrequests-unixsocket               0.2.0\nrope                              0.22.0\ns3transfer                        0.5.0\nscikit-learn                      1.0.2\nscipy                             1.7.3\nseaborn                           0.11.2\nSend2Trash                        1.8.0\nsetuptools                        61.2.0\nsix                               1.16.0\nsoupsieve                         2.3.1\nssh-import-id                     5.10\nstack-data                        0.2.0\nstatsmodels                       0.13.2\ntenacity                          8.0.1\nterminado                         0.13.1\ntestpath                          0.5.0\nthreadpoolctl                     2.2.0\ntokenize-rt                       4.2.1\ntomli                             1.2.2\ntornado                           6.1\ntraitlets                         5.1.1\ntyping_extensions                 4.1.1\nujson                             5.1.0\nunattended-upgrades               0.1\nurllib3                           1.26.9\nvirtualenv                        20.8.0\nwcwidth                           0.2.5\nwebencodings                      0.5.1\nwhatthepatch                      1.0.4\nwheel                             0.37.0\nwidgetsnbextension                3.6.1\nyapf                              0.31.0\n"
     ]
    }
   ],
   "source": [
    "pip list"
   ]
  }
 ],
 "metadata": {
  "application/vnd.databricks.v1+notebook": {
   "computePreferences": null,
   "dashboards": [],
   "environmentMetadata": {
    "base_environment": "",
    "environment_version": "1"
   },
   "inputWidgetPreferences": null,
   "language": "python",
   "notebookMetadata": {
    "pythonIndentUnit": 4
   },
   "notebookName": "1. Install Pyspark",
   "widgets": {}
  }
 },
 "nbformat": 4,
 "nbformat_minor": 0
}